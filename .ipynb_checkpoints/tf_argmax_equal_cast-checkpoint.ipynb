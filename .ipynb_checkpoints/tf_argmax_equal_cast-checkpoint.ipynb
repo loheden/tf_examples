{
 "cells": [
  {
   "cell_type": "code",
   "execution_count": 45,
   "metadata": {},
   "outputs": [],
   "source": [
    "import tensorflow as tf"
   ]
  },
  {
   "cell_type": "code",
   "execution_count": 46,
   "metadata": {},
   "outputs": [],
   "source": [
    "# tf.argmax: Returns the index with the largest value across axes of a tensor. \n",
    "# tf.cast: Casts a tensor to a new type\n",
    "# tf.equal: Returns the truth value of (x == y) element-wise\n",
    "#tf.reduce_mean: Computes the mean of elements across dimensions of a tensor. "
   ]
  },
  {
   "cell_type": "code",
   "execution_count": 47,
   "metadata": {},
   "outputs": [],
   "source": [
    "a = tf.constant([[1.,8.,9.,4.],\n",
    "                 [8.,7.,9.,9.],\n",
    "                 [7.,4.,8.,8.]])\n",
    "b = tf.constant([[1.,7.,9.,8.], \n",
    "                 [3.,6.,1.,9.],\n",
    "                 [9.,3.,7.,1.]])\n"
   ]
  },
  {
   "cell_type": "code",
   "execution_count": 48,
   "metadata": {},
   "outputs": [
    {
     "name": "stdout",
     "output_type": "stream",
     "text": [
      "c: [1 0 0 1]\n",
      "d: [2 0 0 1]\n",
      "e: [0. 1. 1. 1.]\n",
      "following is used when calculating accuracy: \n",
      "0.75\n"
     ]
    }
   ],
   "source": [
    "c = tf.argmax(a, axis=0)\n",
    "d = tf.argmax(b, axis=0)\n",
    "e = tf.equal(c, d)\n",
    "\n",
    "sess = tf.Session()\n",
    "print(\"c: \" + str(sess.run(c)))\n",
    "print(\"d: \" + str(sess.run(d)))\n",
    "dd = sess.run(tf.cast(e, dtype=tf.float32))\n",
    "print(\"e: \" + str(dd))\n",
    "\n",
    "print(\"following is used when calculating accuracy: \")\n",
    "print(sess.run(tf.reduce_mean(tf.cast(dd, dtype=tf.float32))))"
   ]
  },
  {
   "cell_type": "code",
   "execution_count": 49,
   "metadata": {},
   "outputs": [
    {
     "name": "stdout",
     "output_type": "stream",
     "text": [
      "f: [2 2 2]\n",
      "g: [2 3 0]\n",
      "h: [1. 0. 0.]\n",
      "0.33333334\n"
     ]
    }
   ],
   "source": [
    "f = tf.argmax(a, axis=1)\n",
    "g = tf.argmax(b, axis=1)\n",
    "h = tf.equal(f, g)\n",
    "\n",
    "sess = tf.Session()\n",
    "print(\"f: \" + str(sess.run(f)))\n",
    "print(\"g: \" + str(sess.run(g)))\n",
    "print(\"h: \" + str(sess.run(tf.cast(h, dtype=tf.float32))))\n",
    "\n",
    "print(sess.run(tf.reduce_mean(tf.cast(h, dtype=tf.float32))))"
   ]
  },
  {
   "cell_type": "code",
   "execution_count": null,
   "metadata": {},
   "outputs": [],
   "source": []
  },
  {
   "cell_type": "code",
   "execution_count": null,
   "metadata": {},
   "outputs": [],
   "source": []
  }
 ],
 "metadata": {
  "kernelspec": {
   "display_name": "Python 3",
   "language": "python",
   "name": "python3"
  },
  "language_info": {
   "codemirror_mode": {
    "name": "ipython",
    "version": 3
   },
   "file_extension": ".py",
   "mimetype": "text/x-python",
   "name": "python",
   "nbconvert_exporter": "python",
   "pygments_lexer": "ipython3",
   "version": "3.5.4"
  }
 },
 "nbformat": 4,
 "nbformat_minor": 2
}

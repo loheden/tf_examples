{
 "cells": [
  {
   "cell_type": "code",
   "execution_count": 1,
   "metadata": {},
   "outputs": [],
   "source": [
    "# Function: It can be used for differen purposes and one common usage is when calculating the \n",
    "# accuracy of training/dev/test sets.\n",
    "# If accuracy is calculated, the tyical usage is as following: tf.nn.in_top_k(logits, Y, 1)\n",
    "# where logits is simply the ZL (the linear output of the output layer of neural network)"
   ]
  },
  {
   "cell_type": "code",
   "execution_count": 2,
   "metadata": {},
   "outputs": [],
   "source": [
    "import tensorflow as tf"
   ]
  },
  {
   "cell_type": "code",
   "execution_count": 3,
   "metadata": {},
   "outputs": [],
   "source": [
    "# NOTE that when calculating accuracy, the third argument is always 1 as we want to check if the prediction \n",
    "# is correct or not"
   ]
  },
  {
   "cell_type": "code",
   "execution_count": 4,
   "metadata": {},
   "outputs": [
    {
     "name": "stdout",
     "output_type": "stream",
     "text": [
      "[2]\n",
      "[False]\n",
      "[False]\n",
      "[ True]\n"
     ]
    }
   ],
   "source": [
    "# THIS EXAMPLE ILLUSTRATES THE USE OF tf.nn.in_top_k on 1 single training sample\n",
    "\n",
    "# See that there are 6 classes and assume that the NN model is trying to estimate the right class...\n",
    "\n",
    "# The assumption in this example is that there is only 1 training example.\n",
    "# Assume that softmax regression is used in output layer.\n",
    "# logit (ZL) if as the following:\n",
    "logit = tf.constant([[1.0, 0.7, 2.0, 2.5, 2.7, -6.3]])\n",
    "# Based on this given logit, \"2.7\" is the max value, with the index number=4.\n",
    "# The second biggest value is 2.5, with the index = 3\n",
    "# The third biggest value is 2.0, with the index = 2\n",
    "# So, if we sort the index values of these samples (from largest to smallest), we find: [4, 3, 2, 0, 1, 5]\n",
    "\n",
    "# label represents the correct value, that the model needs to predict correctly.\n",
    "label = tf.constant([[  0,   0,   1,   0,   0,   0]])\n",
    "# Now run tf.argmax to figure out the max index of the label array. The following will return [2] because\n",
    "# the largest value of the array is at the index = 2 in the array of label\n",
    "label_argmax = tf.argmax(label, 1)\n",
    "\n",
    "# Time to run the tf.nn.in_top_k function.\n",
    "# We know that label_argmax=[2].\n",
    "# Since the third parameter = 1, \n",
    "# then we ask if the value at the index logit[0, 2] is the biggest value of all samples in logit[0]?\n",
    "# The answer is NO. logit[0, 2] = 2.0 is the third biggest value of the logit\n",
    "a = tf.nn.in_top_k(logit, label_argmax, 1)  # [False]\n",
    "\n",
    "# Ok.. Since the third argument is 2 now.. Then we ask, if the logit[0,2] is one of the biggest 2 samples in the \n",
    "# logit[0]. The answer is still NO and it returns FALSE\n",
    "b = tf.nn.in_top_k(logit, label_argmax, 2)  # [False]\n",
    "\n",
    "# If logit[0, 2] = 2.0 one of the 3 biggest samples in logit[0]? \n",
    "# The answer is TRUE bcz logit[0, 2] is the third biggest\n",
    "c = tf.nn.in_top_k(logit, label_argmax, 3)  # [True]\n",
    "\n",
    "with tf.Session() as sess:\n",
    "    print(sess.run(label_argmax))\n",
    "    print(sess.run(a))\n",
    "    print(sess.run(b))\n",
    "    print(sess.run(c))"
   ]
  },
  {
   "cell_type": "code",
   "execution_count": 5,
   "metadata": {},
   "outputs": [
    {
     "name": "stdout",
     "output_type": "stream",
     "text": [
      "[2 2 1]\n",
      "[ True False  True]\n",
      "0.6666667\n"
     ]
    }
   ],
   "source": [
    "# THIS EXAMPLE ILLUSTRATES THE USE OF tf.nn.in_top_k on 3 single training samples\n",
    "\n",
    "# Based on following logits, our predictions is [2, 0, 1], where each number\n",
    "# represents the index of max value in each given (training) example\n",
    "logits = tf.constant([[1.0, 0.7, 2.0], [9.0, 8.0, 7.0], [4.0, 6.0, 5.0]])\n",
    "\n",
    "\n",
    "# label represents the correct values that the model needs to predict correctly.\n",
    "labels = tf.constant([[0, 0, 1], [0, 0, 1], [0, 1, 0]])\n",
    "# Now run tf.argmax to figure out the max index of the label array. The following will return [2, 2, 1]\n",
    "labels_argmax = tf.argmax(labels, 1)\n",
    "\n",
    "# Which elements of [2, 0, 1] are equal to the corresponding elements of [2, 2, 1]\n",
    "are_predictions_correct = tf.nn.in_top_k(logits, labels_argmax, 1)  # [True, False, True]\n",
    "accuracy = tf.reduce_mean(tf.cast(are_predictions_correct, tf.float32))\n",
    "\n",
    "with tf.Session() as sess:\n",
    "    print(sess.run(labels_argmax))\n",
    "    print(sess.run(are_predictions_correct))\n",
    "    print(sess.run(accuracy))\n"
   ]
  },
  {
   "cell_type": "code",
   "execution_count": null,
   "metadata": {},
   "outputs": [],
   "source": []
  }
 ],
 "metadata": {
  "kernelspec": {
   "display_name": "Python 3",
   "language": "python",
   "name": "python3"
  },
  "language_info": {
   "codemirror_mode": {
    "name": "ipython",
    "version": 3
   },
   "file_extension": ".py",
   "mimetype": "text/x-python",
   "name": "python",
   "nbconvert_exporter": "python",
   "pygments_lexer": "ipython3",
   "version": "3.5.4"
  }
 },
 "nbformat": 4,
 "nbformat_minor": 2
}

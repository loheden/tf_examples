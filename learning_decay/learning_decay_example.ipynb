{
 "cells": [
  {
   "cell_type": "code",
   "execution_count": 29,
   "metadata": {},
   "outputs": [],
   "source": [
    "import tensorflow as tf\n"
   ]
  },
  {
   "cell_type": "code",
   "execution_count": 30,
   "metadata": {},
   "outputs": [],
   "source": [
    "# The following test function updates the learning_rate alpha based on the following formula:\n",
    "# decayed_learning_rate = learning_rate * decay_rate ^ (global_step / decay_steps)\n",
    "# This operation is done in the tf.train.exponential_decay built-in function\n",
    "\n",
    "def test_learning_decay(initial_learning_rate, decay_steps, decay_rate, staircase):\n",
    "    \n",
    "    '''\n",
    "    Params:\n",
    "    initial_learning_rate: The start learning rate with which the training is supposed to start\n",
    "    decay_steps: After each decay_steps, the learning_rate becomes (learning_rate * decay_rate).\n",
    "                 Defines how quickly the learning rate shall be decaying\n",
    "    decay_rate: learning_rate becomes (learning_rate * decay_rate) after each decay_steps\n",
    "                Impacts how big/small steps will be taken each time when decaying the learning_rate\n",
    "    staircase: If True, learning_rate only changes after each decap_steps. If False, it changes after each step.\n",
    "    '''\n",
    "\n",
    "    with tf.name_scope(\"learning_decay_scope\"):\n",
    "        # Global_step to use for the decay computation. Must not be negative.\n",
    "        global_step = tf.Variable(0, trainable=False)\n",
    "        learning_rate = tf.train.exponential_decay(initial_learning_rate,\n",
    "                                                   global_step, \n",
    "                                                   decay_steps,  \n",
    "                                                   decay_rate,  # how much will alphe be decayed?\n",
    "                                                   staircase=staircase)\n",
    "    \n",
    "    with tf.Session() as sess:\n",
    "        for i in range (0, 12):\n",
    "            current_learning_rate = sess.run(learning_rate, feed_dict={global_step: i})\n",
    "            print(\"current_learning_rate: \", current_learning_rate)"
   ]
  },
  {
   "cell_type": "code",
   "execution_count": 31,
   "metadata": {
    "scrolled": false
   },
   "outputs": [
    {
     "name": "stdout",
     "output_type": "stream",
     "text": [
      "when staircase = True: \n",
      "\n",
      "current_learning_rate:  1.0\n",
      "current_learning_rate:  1.0\n",
      "current_learning_rate:  1.0\n",
      "current_learning_rate:  0.9\n",
      "current_learning_rate:  0.9\n",
      "current_learning_rate:  0.9\n",
      "current_learning_rate:  0.80999994\n",
      "current_learning_rate:  0.80999994\n",
      "current_learning_rate:  0.80999994\n",
      "current_learning_rate:  0.729\n",
      "current_learning_rate:  0.729\n",
      "current_learning_rate:  0.729\n",
      "\n",
      "when staircase = False: \n",
      "\n",
      "current_learning_rate:  1.0\n",
      "current_learning_rate:  0.9654894\n",
      "current_learning_rate:  0.93216974\n",
      "current_learning_rate:  0.9\n",
      "current_learning_rate:  0.8689404\n",
      "current_learning_rate:  0.8389527\n",
      "current_learning_rate:  0.80999994\n",
      "current_learning_rate:  0.7820463\n",
      "current_learning_rate:  0.75505745\n",
      "current_learning_rate:  0.729\n",
      "current_learning_rate:  0.7038417\n",
      "current_learning_rate:  0.67955166\n"
     ]
    }
   ],
   "source": [
    "initial_learning_rate = 1.\n",
    "decay_steps = 3\n",
    "decay_rate = 0.9\n",
    "staircase = True\n",
    "\n",
    "print(\"when staircase = True: \\n\")\n",
    "\n",
    "test_learning_decay(initial_learning_rate, decay_steps, decay_rate, staircase)\n",
    "\n",
    "print(\"\\nwhen staircase = False: \\n\")\n",
    "\n",
    "staircase = False\n",
    "test_learning_decay(initial_learning_rate, decay_steps, decay_rate, staircase)"
   ]
  },
  {
   "cell_type": "code",
   "execution_count": 90,
   "metadata": {},
   "outputs": [],
   "source": []
  },
  {
   "cell_type": "code",
   "execution_count": null,
   "metadata": {},
   "outputs": [],
   "source": []
  },
  {
   "cell_type": "code",
   "execution_count": null,
   "metadata": {},
   "outputs": [],
   "source": []
  }
 ],
 "metadata": {
  "kernelspec": {
   "display_name": "Python 3",
   "language": "python",
   "name": "python3"
  },
  "language_info": {
   "codemirror_mode": {
    "name": "ipython",
    "version": 3
   },
   "file_extension": ".py",
   "mimetype": "text/x-python",
   "name": "python",
   "nbconvert_exporter": "python",
   "pygments_lexer": "ipython3",
   "version": "3.5.4"
  }
 },
 "nbformat": 4,
 "nbformat_minor": 2
}
